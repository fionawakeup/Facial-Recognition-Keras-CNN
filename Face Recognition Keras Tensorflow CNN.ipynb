{
 "cells": [
  {
   "cell_type": "code",
   "execution_count": 1,
   "metadata": {},
   "outputs": [
    {
     "name": "stdout",
     "output_type": "stream",
     "text": [
      "Requirement already satisfied: keras in c:\\users\\fiona\\.conda\\envs\\tf\\lib\\site-packages (2.4.3)\n",
      "Requirement already satisfied: pyyaml in c:\\users\\fiona\\.conda\\envs\\tf\\lib\\site-packages (from keras) (5.3.1)\n",
      "Requirement already satisfied: numpy>=1.9.1 in c:\\users\\fiona\\.conda\\envs\\tf\\lib\\site-packages (from keras) (1.18.5)\n",
      "Requirement already satisfied: scipy>=0.14 in c:\\users\\fiona\\.conda\\envs\\tf\\lib\\site-packages (from keras) (1.5.3)\n",
      "Requirement already satisfied: h5py in c:\\users\\fiona\\.conda\\envs\\tf\\lib\\site-packages (from keras) (2.10.0)\n",
      "Requirement already satisfied: six in c:\\users\\fiona\\.conda\\envs\\tf\\lib\\site-packages (from h5py->keras) (1.15.0)\n",
      "Requirement already satisfied: livelossplot in c:\\users\\fiona\\.conda\\envs\\tf\\lib\\site-packages (0.5.3)\n",
      "Requirement already satisfied: ipython in c:\\users\\fiona\\.conda\\envs\\tf\\lib\\site-packages (from livelossplot) (7.16.1)\n",
      "Requirement already satisfied: bokeh; python_version >= \"3.6\" in c:\\users\\fiona\\.conda\\envs\\tf\\lib\\site-packages (from livelossplot) (2.2.1)\n",
      "Requirement already satisfied: matplotlib; python_version >= \"3.6\" in c:\\users\\fiona\\.conda\\envs\\tf\\lib\\site-packages (from livelossplot) (3.3.2)\n",
      "Requirement already satisfied: backcall in c:\\users\\fiona\\.conda\\envs\\tf\\lib\\site-packages (from ipython->livelossplot) (0.2.0)\n",
      "Requirement already satisfied: setuptools>=18.5 in c:\\users\\fiona\\.conda\\envs\\tf\\lib\\site-packages (from ipython->livelossplot) (50.3.0.post20201006)\n",
      "Requirement already satisfied: pickleshare in c:\\users\\fiona\\.conda\\envs\\tf\\lib\\site-packages (from ipython->livelossplot) (0.7.5)\n",
      "Requirement already satisfied: traitlets>=4.2 in c:\\users\\fiona\\.conda\\envs\\tf\\lib\\site-packages (from ipython->livelossplot) (4.3.3)\n",
      "Requirement already satisfied: decorator in c:\\users\\fiona\\.conda\\envs\\tf\\lib\\site-packages (from ipython->livelossplot) (4.4.2)\n",
      "Requirement already satisfied: prompt-toolkit!=3.0.0,!=3.0.1,<3.1.0,>=2.0.0 in c:\\users\\fiona\\.conda\\envs\\tf\\lib\\site-packages (from ipython->livelossplot) (3.0.7)\n",
      "Requirement already satisfied: jedi>=0.10 in c:\\users\\fiona\\.conda\\envs\\tf\\lib\\site-packages (from ipython->livelossplot) (0.17.2)\n",
      "Requirement already satisfied: pygments in c:\\users\\fiona\\.conda\\envs\\tf\\lib\\site-packages (from ipython->livelossplot) (2.7.1)\n",
      "Requirement already satisfied: colorama; sys_platform == \"win32\" in c:\\users\\fiona\\.conda\\envs\\tf\\lib\\site-packages (from ipython->livelossplot) (0.4.3)\n",
      "Requirement already satisfied: packaging>=16.8 in c:\\users\\fiona\\.conda\\envs\\tf\\lib\\site-packages (from bokeh; python_version >= \"3.6\"->livelossplot) (20.4)\n",
      "Requirement already satisfied: typing-extensions>=3.7.4 in c:\\users\\fiona\\.conda\\envs\\tf\\lib\\site-packages (from bokeh; python_version >= \"3.6\"->livelossplot) (3.7.4.3)\n",
      "Requirement already satisfied: PyYAML>=3.10 in c:\\users\\fiona\\.conda\\envs\\tf\\lib\\site-packages (from bokeh; python_version >= \"3.6\"->livelossplot) (5.3.1)\n",
      "Requirement already satisfied: python-dateutil>=2.1 in c:\\users\\fiona\\.conda\\envs\\tf\\lib\\site-packages (from bokeh; python_version >= \"3.6\"->livelossplot) (2.8.1)\n",
      "Requirement already satisfied: tornado>=5.1 in c:\\users\\fiona\\.conda\\envs\\tf\\lib\\site-packages (from bokeh; python_version >= \"3.6\"->livelossplot) (6.0.4)\n",
      "Requirement already satisfied: numpy>=1.11.3 in c:\\users\\fiona\\.conda\\envs\\tf\\lib\\site-packages (from bokeh; python_version >= \"3.6\"->livelossplot) (1.18.5)\n",
      "Requirement already satisfied: pillow>=7.1.0 in c:\\users\\fiona\\.conda\\envs\\tf\\lib\\site-packages (from bokeh; python_version >= \"3.6\"->livelossplot) (7.2.0)\n",
      "Requirement already satisfied: Jinja2>=2.7 in c:\\users\\fiona\\.conda\\envs\\tf\\lib\\site-packages (from bokeh; python_version >= \"3.6\"->livelossplot) (2.11.2)\n",
      "Requirement already satisfied: pyparsing!=2.0.4,!=2.1.2,!=2.1.6,>=2.0.3 in c:\\users\\fiona\\.conda\\envs\\tf\\lib\\site-packages (from matplotlib; python_version >= \"3.6\"->livelossplot) (2.4.7)\n",
      "Requirement already satisfied: certifi>=2020.06.20 in c:\\users\\fiona\\.conda\\envs\\tf\\lib\\site-packages (from matplotlib; python_version >= \"3.6\"->livelossplot) (2020.6.20)\n",
      "Requirement already satisfied: kiwisolver>=1.0.1 in c:\\users\\fiona\\.conda\\envs\\tf\\lib\\site-packages (from matplotlib; python_version >= \"3.6\"->livelossplot) (1.2.0)\n",
      "Requirement already satisfied: cycler>=0.10 in c:\\users\\fiona\\.conda\\envs\\tf\\lib\\site-packages (from matplotlib; python_version >= \"3.6\"->livelossplot) (0.10.0)\n",
      "Requirement already satisfied: six in c:\\users\\fiona\\.conda\\envs\\tf\\lib\\site-packages (from traitlets>=4.2->ipython->livelossplot) (1.15.0)\n",
      "Requirement already satisfied: ipython-genutils in c:\\users\\fiona\\.conda\\envs\\tf\\lib\\site-packages (from traitlets>=4.2->ipython->livelossplot) (0.2.0)\n",
      "Requirement already satisfied: wcwidth in c:\\users\\fiona\\.conda\\envs\\tf\\lib\\site-packages (from prompt-toolkit!=3.0.0,!=3.0.1,<3.1.0,>=2.0.0->ipython->livelossplot) (0.2.5)\n",
      "Requirement already satisfied: parso<0.8.0,>=0.7.0 in c:\\users\\fiona\\.conda\\envs\\tf\\lib\\site-packages (from jedi>=0.10->ipython->livelossplot) (0.7.0)\n",
      "Requirement already satisfied: MarkupSafe>=0.23 in c:\\users\\fiona\\.conda\\envs\\tf\\lib\\site-packages (from Jinja2>=2.7->bokeh; python_version >= \"3.6\"->livelossplot) (1.1.1)\n"
     ]
    },
    {
     "data": {
      "text/plain": [
       "'2.3.1'"
      ]
     },
     "execution_count": 1,
     "metadata": {},
     "output_type": "execute_result"
    }
   ],
   "source": [
    "!pip install keras\n",
    "!pip install livelossplot\n",
    "\n",
    "\n",
    "import numpy as np\n",
    "import seaborn as sns\n",
    "import matplotlib.pyplot as plt\n",
    "import utils\n",
    "import os\n",
    "%matplotlib inline\n",
    "\n",
    "from tensorflow.keras.preprocessing.image import ImageDataGenerator\n",
    "from tensorflow.keras.layers import Dense, Input, Dropout,Flatten, Conv2D\n",
    "from tensorflow.keras.layers import BatchNormalization, Activation, MaxPooling2D\n",
    "from tensorflow.keras.models import Model, Sequential\n",
    "from tensorflow.keras.optimizers import Adam\n",
    "from tensorflow.keras.callbacks import ModelCheckpoint, ReduceLROnPlateau\n",
    "from tensorflow.keras.utils import plot_model\n",
    "\n",
    "from IPython.display import SVG, Image\n",
    "from livelossplot import PlotLossesKeras\n",
    "\n",
    "import tensorflow as tf\n",
    "tf.__version__"
   ]
  },
  {
   "cell_type": "code",
   "execution_count": 3,
   "metadata": {},
   "outputs": [
    {
     "name": "stdout",
     "output_type": "stream",
     "text": [
      "3995 angry images\n",
      "436 disgust images\n",
      "4097 fear images\n",
      "7214 happy images\n",
      "4965 neutral images\n",
      "4830 sad images\n",
      "3171 surprise images\n"
     ]
    }
   ],
   "source": [
    "for expression in os.listdir('train/'):\n",
    "    print(str(len(os.listdir('train/'+expression)))+' '+expression+' images')"
   ]
  },
  {
   "cell_type": "code",
   "execution_count": 23,
   "metadata": {},
   "outputs": [
    {
     "name": "stdout",
     "output_type": "stream",
     "text": [
      "958 angry images\n",
      "111 disgust images\n",
      "1024 fear images\n",
      "1774 happy images\n",
      "1233 neutral images\n",
      "1247 sad images\n",
      "831 surprise images\n"
     ]
    }
   ],
   "source": [
    "for expression in os.listdir('test/'):\n",
    "    print(str(len(os.listdir('test/'+expression)))+' '+expression+' images')"
   ]
  },
  {
   "cell_type": "markdown",
   "metadata": {},
   "source": [
    "# Training and Testing Data Generator "
   ]
  },
  {
   "cell_type": "code",
   "execution_count": 24,
   "metadata": {},
   "outputs": [
    {
     "name": "stdout",
     "output_type": "stream",
     "text": [
      "Found 28708 images belonging to 7 classes.\n",
      "Found 7178 images belonging to 7 classes.\n"
     ]
    }
   ],
   "source": [
    "#parameters for dataloader\n",
    "image_size=48\n",
    "batch_size=64\n",
    "\n",
    "#data loader for trainset\n",
    "datagenerator_train=ImageDataGenerator(horizontal_flip=True) #data augmentation: flip images along horizontal axis \n",
    "train_generator=datagenerator_train.flow_from_directory('train/',target_size=(48,48),color_mode='grayscale',batch_size=64,\n",
    "                                                       class_mode='categorical',shuffle=True)\n",
    "\n",
    "#data loader for testset \n",
    "datagenerator_test=ImageDataGenerator(horizontal_flip=True) #data augmentation: flip images along horizontal axis \n",
    "test_generator=datagenerator_test.flow_from_directory('test/',target_size=(48,48),color_mode='grayscale',batch_size=64,\n",
    "                                                       class_mode='categorical',shuffle=True)\n",
    "\n",
    "#one hot encoding the category "
   ]
  },
  {
   "cell_type": "markdown",
   "metadata": {},
   "source": [
    "# CNN Model "
   ]
  },
  {
   "cell_type": "code",
   "execution_count": 25,
   "metadata": {},
   "outputs": [
    {
     "name": "stdout",
     "output_type": "stream",
     "text": [
      "Model: \"sequential\"\n",
      "_________________________________________________________________\n",
      "Layer (type)                 Output Shape              Param #   \n",
      "=================================================================\n",
      "conv2d (Conv2D)              (None, 48, 48, 64)        640       \n",
      "_________________________________________________________________\n",
      "batch_normalization (BatchNo (None, 48, 48, 64)        256       \n",
      "_________________________________________________________________\n",
      "activation (Activation)      (None, 48, 48, 64)        0         \n",
      "_________________________________________________________________\n",
      "max_pooling2d (MaxPooling2D) (None, 24, 24, 64)        0         \n",
      "_________________________________________________________________\n",
      "dropout (Dropout)            (None, 24, 24, 64)        0         \n",
      "_________________________________________________________________\n",
      "conv2d_1 (Conv2D)            (None, 24, 24, 128)       204928    \n",
      "_________________________________________________________________\n",
      "batch_normalization_1 (Batch (None, 24, 24, 128)       512       \n",
      "_________________________________________________________________\n",
      "activation_1 (Activation)    (None, 24, 24, 128)       0         \n",
      "_________________________________________________________________\n",
      "max_pooling2d_1 (MaxPooling2 (None, 12, 12, 128)       0         \n",
      "_________________________________________________________________\n",
      "dropout_1 (Dropout)          (None, 12, 12, 128)       0         \n",
      "_________________________________________________________________\n",
      "conv2d_2 (Conv2D)            (None, 12, 12, 512)       590336    \n",
      "_________________________________________________________________\n",
      "batch_normalization_2 (Batch (None, 12, 12, 512)       2048      \n",
      "_________________________________________________________________\n",
      "activation_2 (Activation)    (None, 12, 12, 512)       0         \n",
      "_________________________________________________________________\n",
      "max_pooling2d_2 (MaxPooling2 (None, 6, 6, 512)         0         \n",
      "_________________________________________________________________\n",
      "dropout_2 (Dropout)          (None, 6, 6, 512)         0         \n",
      "_________________________________________________________________\n",
      "conv2d_3 (Conv2D)            (None, 6, 6, 512)         2359808   \n",
      "_________________________________________________________________\n",
      "batch_normalization_3 (Batch (None, 6, 6, 512)         2048      \n",
      "_________________________________________________________________\n",
      "activation_3 (Activation)    (None, 6, 6, 512)         0         \n",
      "_________________________________________________________________\n",
      "max_pooling2d_3 (MaxPooling2 (None, 3, 3, 512)         0         \n",
      "_________________________________________________________________\n",
      "dropout_3 (Dropout)          (None, 3, 3, 512)         0         \n",
      "_________________________________________________________________\n",
      "flatten (Flatten)            (None, 4608)              0         \n",
      "_________________________________________________________________\n",
      "dense (Dense)                (None, 256)               1179904   \n",
      "_________________________________________________________________\n",
      "batch_normalization_4 (Batch (None, 256)               1024      \n",
      "_________________________________________________________________\n",
      "activation_4 (Activation)    (None, 256)               0         \n",
      "_________________________________________________________________\n",
      "dropout_4 (Dropout)          (None, 256)               0         \n",
      "_________________________________________________________________\n",
      "dense_1 (Dense)              (None, 512)               131584    \n",
      "_________________________________________________________________\n",
      "batch_normalization_5 (Batch (None, 512)               2048      \n",
      "_________________________________________________________________\n",
      "activation_5 (Activation)    (None, 512)               0         \n",
      "_________________________________________________________________\n",
      "dropout_5 (Dropout)          (None, 512)               0         \n",
      "_________________________________________________________________\n",
      "dense_2 (Dense)              (None, 7)                 3591      \n",
      "=================================================================\n",
      "Total params: 4,478,727\n",
      "Trainable params: 4,474,759\n",
      "Non-trainable params: 3,968\n",
      "_________________________________________________________________\n"
     ]
    }
   ],
   "source": [
    "model=Sequential()\n",
    "\n",
    "#1st Convolution Layer\n",
    "#same padding, so dont lose information on image \n",
    "#1st layer, needs input_shape\n",
    "model.add(Conv2D(64,(3,3),padding='same',input_shape=(48,48,1)))\n",
    "model.add(BatchNormalization())\n",
    "model.add(Activation('relu'))\n",
    "model.add(MaxPooling2D(pool_size=(2,2)))\n",
    "model.add(Dropout(0.25))\n",
    "\n",
    "#2nd Convolution Layer\n",
    "model.add(Conv2D(128,(5,5),padding='same'))\n",
    "model.add(BatchNormalization())\n",
    "model.add(Activation('relu'))\n",
    "model.add(MaxPooling2D(pool_size=(2,2)))\n",
    "model.add(Dropout(0.25))\n",
    "\n",
    "#3rd Convolution Layer\n",
    "model.add(Conv2D(512,(3,3),padding='same'))\n",
    "model.add(BatchNormalization())\n",
    "model.add(Activation('relu'))\n",
    "model.add(MaxPooling2D(pool_size=(2,2)))\n",
    "model.add(Dropout(0.25))\n",
    "\n",
    "#4th Convolution Layer\n",
    "model.add(Conv2D(512,(3,3),padding='same'))\n",
    "model.add(BatchNormalization())\n",
    "model.add(Activation('relu'))\n",
    "model.add(MaxPooling2D(pool_size=(2,2)))\n",
    "model.add(Dropout(0.25))\n",
    "\n",
    "model.add(Flatten())\n",
    "\n",
    "#1st fully connected layer\n",
    "model.add(Dense(256))\n",
    "model.add(BatchNormalization())\n",
    "model.add(Activation('relu'))\n",
    "model.add(Dropout(0.25))\n",
    "\n",
    "#2nd fully connected layer\n",
    "model.add(Dense(512))\n",
    "model.add(BatchNormalization())\n",
    "model.add(Activation('relu'))\n",
    "model.add(Dropout(0.25))\n",
    "\n",
    "#create output\n",
    "#dense layer\n",
    "model.add(Dense(7,activation='softmax'))\n",
    "\n",
    "optimize =Adam(lr=0.0005)\n",
    "model.compile(optimizer=optimize,loss='categorical_crossentropy',metrics=['accuracy'])\n",
    "\n",
    "model.summary()"
   ]
  },
  {
   "cell_type": "markdown",
   "metadata": {},
   "source": [
    "# Train and Evaluate Model"
   ]
  },
  {
   "cell_type": "code",
   "execution_count": 35,
   "metadata": {},
   "outputs": [
    {
     "data": {
      "text/plain": [
       "[]"
      ]
     },
     "execution_count": 35,
     "metadata": {},
     "output_type": "execute_result"
    }
   ],
   "source": [
    "tf.config.experimental.list_physical_devices('GPU') "
   ]
  },
  {
   "cell_type": "code",
   "execution_count": 36,
   "metadata": {},
   "outputs": [
    {
     "data": {
      "text/plain": [
       "<module 'tensorflow.keras' from 'C:\\\\Users\\\\fiona\\\\.conda\\\\envs\\\\tfgpu\\\\lib\\\\site-packages\\\\tensorflow\\\\keras\\\\__init__.py'>"
      ]
     },
     "execution_count": 36,
     "metadata": {},
     "output_type": "execute_result"
    }
   ],
   "source": [
    "tf.keras"
   ]
  },
  {
   "cell_type": "code",
   "execution_count": 28,
   "metadata": {},
   "outputs": [
    {
     "name": "stdout",
     "output_type": "stream",
     "text": [
      "Num GPUs Available:  0\n"
     ]
    }
   ],
   "source": [
    "import tensorflow as tf\n",
    "print(\"Num GPUs Available: \", len(tf.config.experimental.list_physical_devices('GPU')))"
   ]
  },
  {
   "cell_type": "code",
   "execution_count": 34,
   "metadata": {},
   "outputs": [
    {
     "name": "stdout",
     "output_type": "stream",
     "text": [
      "[name: \"/device:CPU:0\"\n",
      "device_type: \"CPU\"\n",
      "memory_limit: 268435456\n",
      "locality {\n",
      "}\n",
      "incarnation: 392719465195178570\n",
      ", name: \"/device:XLA_CPU:0\"\n",
      "device_type: \"XLA_CPU\"\n",
      "memory_limit: 17179869184\n",
      "locality {\n",
      "}\n",
      "incarnation: 796703226727290711\n",
      "physical_device_desc: \"device: XLA_CPU device\"\n",
      ", name: \"/device:XLA_GPU:0\"\n",
      "device_type: \"XLA_GPU\"\n",
      "memory_limit: 17179869184\n",
      "locality {\n",
      "}\n",
      "incarnation: 7015332946118297379\n",
      "physical_device_desc: \"device: XLA_GPU device\"\n",
      "]\n"
     ]
    }
   ],
   "source": [
    "from tensorflow.python.client import device_lib\n",
    "print(device_lib.list_local_devices())\n"
   ]
  },
  {
   "cell_type": "code",
   "execution_count": 30,
   "metadata": {},
   "outputs": [
    {
     "data": {
      "image/png": "[encoded data removed]",
      "text/plain": [
       "<Figure size 864x576 with 2 Axes>"
      ]
     },
     "metadata": {
      "needs_background": "light"
     },
     "output_type": "display_data"
    },
    {
     "name": "stdout",
     "output_type": "stream",
     "text": [
      "accuracy\n",
      "\ttraining         \t (min:    0.314, max:    0.668, cur:    0.668)\n",
      "\tvalidation       \t (min:    0.354, max:    0.646, cur:    0.646)\n",
      "Loss\n",
      "\ttraining         \t (min:    0.881, max:    1.800, cur:    0.881)\n",
      "\tvalidation       \t (min:    0.961, max:    1.828, cur:    0.961)\n",
      "\n",
      "Epoch 00015: saving model to model_weight.h5\n",
      "\b\b\b\b\b\b\b\b\b\b\b\b\b\b\b\b\b\b\b\b\b\b\b\b\b\b\b\b\b\b\b\b\b\b\b\b\b\b\b\b\b\b\b\b\b\b\b\b\b\b\b\b\b\b\b\b\b\b\b\b\b\b\b\b\b\b\b\b\b\b\b\b\b\b\b\b\b\b\b\b\b\b\b\b\r",
      "448/448 [==============================] - 480s 1s/step - loss: 0.8809 - accuracy: 0.6684 - val_loss: 0.9610 - val_accuracy: 0.6462\n"
     ]
    }
   ],
   "source": [
    "epochs=15 #based on learning rate and batch size\n",
    "train_process_per_epoch= train_generator.n//train_generator.batch_size #number of pictures/batch size\n",
    "test_process_per_epoch= test_generator.n//test_generator.batch_size\n",
    "\n",
    "# define callbacks \n",
    "#save model weights with the highest accuracy \n",
    "checkpoint=ModelCheckpoint('model_weight.h5',\n",
    "                             monitor='val_accuracy',\n",
    "                             mode='max',\n",
    "                             save_weights_only=True,\n",
    "                             verbose=1)\n",
    "\n",
    "#learning rate scheduler \n",
    "lr_new=ReduceLROnPlateau(monitor='val_loss',factor=0.1,patience=2,mode='auto',min_lr=0.00001)\n",
    "\n",
    "callbacks=[PlotLossesKeras(),checkpoint,lr_new]\n",
    "\n",
    "training=model.fit(x=train_generator,steps_per_epoch=train_process_per_epoch,callbacks=callbacks,validation_data=test_generator,\n",
    "                   validation_steps=test_process_per_epoch,epochs=epochs)\n",
    "\n",
    "\n",
    "\n",
    "\n"
   ]
  },
  {
   "cell_type": "code",
   "execution_count": null,
   "metadata": {},
   "outputs": [],
   "source": []
  },
  {
   "cell_type": "code",
   "execution_count": 7,
   "metadata": {},
   "outputs": [],
   "source": []
  },
  {
   "cell_type": "code",
   "execution_count": null,
   "metadata": {},
   "outputs": [],
   "source": []
  },
  {
   "cell_type": "code",
   "execution_count": null,
   "metadata": {},
   "outputs": [],
   "source": []
  }
 ],
 "metadata": {
  "kernelspec": {
   "display_name": "Python 3",
   "language": "python",
   "name": "python3"
  },
  "language_info": {
   "codemirror_mode": {
    "name": "ipython",
    "version": 3
   },
   "file_extension": ".py",
   "mimetype": "text/x-python",
   "name": "python",
   "nbconvert_exporter": "python",
   "pygments_lexer": "ipython3",
   "version": "3.6.12"
  }
 },
 "nbformat": 4,
 "nbformat_minor": 4
}
